{
 "cells": [
  {
   "cell_type": "code",
   "execution_count": 1,
   "id": "15814c06-5f47-4a32-bdca-d83616ff3da3",
   "metadata": {},
   "outputs": [],
   "source": [
    "from mip import Model, maximize"
   ]
  },
  {
   "cell_type": "code",
   "execution_count": 2,
   "id": "1991f78f-12d5-4ce8-b7a1-5a1b5d257025",
   "metadata": {},
   "outputs": [],
   "source": [
    "m = Model()"
   ]
  },
  {
   "cell_type": "code",
   "execution_count": 3,
   "id": "b85ee9a4-4f2b-4371-8c4a-da4e0888dea7",
   "metadata": {},
   "outputs": [
    {
     "data": {
      "text/html": [
       "<table width=\"320\">\n",
       "  <tr><td style=\"text-align: center;\">モデル</td></tr>\n",
       "  <tr><td><table width=\"100%\">\n",
       "<tr><td style=\"text-align: left;\" width=\"64\">変数</td><td>なし</td></tr></table></td></tr>\n",
       "  <tr><td><table width=\"100%\"><tr><td style=\"text-align: left;\" width=\"64\">目的関数</td><td>なし</td></tr></table></td></tr>\n",
       "  <tr><td><table width=\"100%\">\n",
       "<tr><td style=\"text-align: left;\" width=\"64\">制約条件</td><td>なし</td></tr></table></td></tr>\n",
       "</table>"
      ],
      "text/plain": [
       "<IPython.core.display.HTML object>"
      ]
     },
     "execution_count": 3,
     "metadata": {},
     "output_type": "execute_result"
    }
   ],
   "source": [
    "from mip_tool.view import view_model\n",
    "\n",
    "view_model(m)"
   ]
  },
  {
   "cell_type": "code",
   "execution_count": 4,
   "id": "d50e1f02-e31d-4678-ad83-624cddfe630b",
   "metadata": {},
   "outputs": [],
   "source": [
    "x = m.add_var(\"x\")\n",
    "y = m.add_var(\"y\")"
   ]
  },
  {
   "cell_type": "code",
   "execution_count": 5,
   "id": "3328e994-1d41-460d-97ff-0ea5fe428496",
   "metadata": {},
   "outputs": [
    {
     "data": {
      "text/html": [
       "<table width=\"320\">\n",
       "  <tr><td style=\"text-align: center;\">モデル</td></tr>\n",
       "  <tr><td><table width=\"100%\">\n",
       "<tr><td rowspan=\"2\" style=\"text-align: left;\" width=\"64\">変数</td><td width=\"64\">x :</td><td>非負変数</td></tr>\n",
       "<tr><td width=\"64\">y :</td><td>非負変数</td></tr>\n",
       "</table></td></tr>\n",
       "  <tr><td><table width=\"100%\"><tr><td style=\"text-align: left;\" width=\"64\">目的関数</td><td>なし</td></tr></table></td></tr>\n",
       "  <tr><td><table width=\"100%\">\n",
       "<tr><td style=\"text-align: left;\" width=\"64\">制約条件</td><td>なし</td></tr></table></td></tr>\n",
       "</table>"
      ],
      "text/plain": [
       "<IPython.core.display.HTML object>"
      ]
     },
     "execution_count": 5,
     "metadata": {},
     "output_type": "execute_result"
    }
   ],
   "source": [
    "view_model(m)"
   ]
  },
  {
   "cell_type": "code",
   "execution_count": 6,
   "id": "5f752c21-ed90-4cda-8d16-5753169b8d72",
   "metadata": {},
   "outputs": [],
   "source": [
    "m.objective = maximize(x+y)"
   ]
  },
  {
   "cell_type": "code",
   "execution_count": 7,
   "id": "1198bcc3-da28-436d-97b1-04d09a27cb7d",
   "metadata": {},
   "outputs": [
    {
     "data": {
      "text/html": [
       "<table width=\"320\">\n",
       "  <tr><td style=\"text-align: center;\">モデル</td></tr>\n",
       "  <tr><td><table width=\"100%\">\n",
       "<tr><td rowspan=\"2\" style=\"text-align: left;\" width=\"64\">変数</td><td width=\"64\">x :</td><td>非負変数</td></tr>\n",
       "<tr><td width=\"64\">y :</td><td>非負変数</td></tr>\n",
       "</table></td></tr>\n",
       "  <tr><td><table width=\"100%\"><tr><td style=\"text-align: left;\" width=\"64\">目的関数</td><td>x + y  → 最大化</td></tr></table></td></tr>\n",
       "  <tr><td><table width=\"100%\">\n",
       "<tr><td style=\"text-align: left;\" width=\"64\">制約条件</td><td>なし</td></tr></table></td></tr>\n",
       "</table>"
      ],
      "text/plain": [
       "<IPython.core.display.HTML object>"
      ]
     },
     "execution_count": 7,
     "metadata": {},
     "output_type": "execute_result"
    }
   ],
   "source": [
    "view_model(m)"
   ]
  },
  {
   "cell_type": "code",
   "execution_count": 8,
   "id": "e85eca74-a436-4f34-9cab-fa216626e288",
   "metadata": {},
   "outputs": [],
   "source": [
    "m += 0.3*x + 0.4*y <= 1200\n",
    "m += 0.3*x + 0.2*y <= 900"
   ]
  },
  {
   "cell_type": "code",
   "execution_count": 9,
   "id": "85b7cd2e-698b-4e4f-bebc-de38b14ca657",
   "metadata": {},
   "outputs": [
    {
     "data": {
      "text/html": [
       "<table width=\"320\">\n",
       "  <tr><td style=\"text-align: center;\">モデル</td></tr>\n",
       "  <tr><td><table width=\"100%\">\n",
       "<tr><td rowspan=\"2\" style=\"text-align: left;\" width=\"64\">変数</td><td width=\"64\">x :</td><td>非負変数</td></tr>\n",
       "<tr><td width=\"64\">y :</td><td>非負変数</td></tr>\n",
       "</table></td></tr>\n",
       "  <tr><td><table width=\"100%\"><tr><td style=\"text-align: left;\" width=\"64\">目的関数</td><td>x + y  → 最大化</td></tr></table></td></tr>\n",
       "  <tr><td><table width=\"100%\">\n",
       "<tr><td rowspan=\"2\" style=\"text-align: left;\" width=\"64\">制約条件</td><td>0.3x + 0.4y  ≦ 1200.0</td></tr>\n",
       "<tr><td>0.3x + 0.2y  ≦ 900.0</td></tr>\n",
       "</table></td></tr>\n",
       "</table>"
      ],
      "text/plain": [
       "<IPython.core.display.HTML object>"
      ]
     },
     "execution_count": 9,
     "metadata": {},
     "output_type": "execute_result"
    }
   ],
   "source": [
    "view_model(m)"
   ]
  },
  {
   "cell_type": "code",
   "execution_count": null,
   "id": "65b2153a-5bcf-4e01-adc9-bc98beba8b92",
   "metadata": {},
   "outputs": [],
   "source": []
  }
 ],
 "metadata": {
  "kernelspec": {
   "display_name": "Python 3 (ipykernel)",
   "language": "python",
   "name": "python3"
  },
  "language_info": {
   "codemirror_mode": {
    "name": "ipython",
    "version": 3
   },
   "file_extension": ".py",
   "mimetype": "text/x-python",
   "name": "python",
   "nbconvert_exporter": "python",
   "pygments_lexer": "ipython3",
   "version": "3.11.9"
  }
 },
 "nbformat": 4,
 "nbformat_minor": 5
}
